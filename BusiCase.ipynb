{
  "cells": [
    {
      "cell_type": "code",
      "execution_count": 79,
      "metadata": {
        "id": "ngOA3C_1JYdN"
      },
      "outputs": [],
      "source": [
        "import pandas as pd"
      ]
    },
    {
      "cell_type": "code",
      "execution_count": 96,
      "metadata": {
        "colab": {
          "base_uri": "https://localhost:8080/"
        },
        "id": "fvRcEZPbKGlY",
        "outputId": "41998ac8-935c-40b7-c8e3-b40b8af8f780"
      },
      "outputs": [
        {
          "name": "stdout",
          "output_type": "stream",
          "text": [
            "{'A': 19, 'E': 19, 'B': 28, 'C': 44}\n"
          ]
        }
      ],
      "source": [
        "import pandas as pd\n",
        "\n",
        "dfs = pd.read_excel('BusiCase_answer', sheet_name=['Answer Tab'])\n",
        "\n",
        "alpha = dfs['Answer Tab'].iloc[2:170, 1:4]\n",
        "alpha = alpha.drop_duplicates()\n",
        "alpha = alpha.dropna()\n",
        "\n",
        "beta = dfs['Answer Tab'].iloc[2:170, 4:7]\n",
        "beta = beta.drop_duplicates()\n",
        "beta = beta.dropna()\n",
        "\n",
        "gamma = dfs['Answer Tab'].iloc[2:170, 7:10]\n",
        "gamma = gamma.drop_duplicates()\n",
        "gamma = gamma.dropna()\n",
        "\n",
        "dict = {}\n",
        "\n",
        "for index, row in alpha.iterrows():\n",
        "  if row[1] not in dict:\n",
        "      dict[row[1]] = 0\n",
        "  dict[row[1]] += 1\n",
        "\n",
        "for index, row in beta.iterrows():\n",
        "  if row[1] not in dict:\n",
        "      dict[row[1]] = 0\n",
        "  dict[row[1]] += 1\n",
        "\n",
        "for index, row in gamma.iterrows():\n",
        "  if row[1] not in dict:\n",
        "      dict[row[1]] = 0\n",
        "  dict[row[1]] += 1\n",
        "\n",
        "del dict['SWITCH']\n",
        "\n",
        "print(dict)"
      ]
    },
    {
      "cell_type": "code",
      "execution_count": null,
      "metadata": {
        "id": "xDVRwCbMAgA4"
      },
      "outputs": [],
      "source": [
        "from google.colab import drive\n",
        "drive.mount('/content/drive')"
      ]
    },
    {
      "cell_type": "code",
      "execution_count": 98,
      "metadata": {
        "colab": {
          "base_uri": "https://localhost:8080/"
        },
        "id": "Rp06a9SOatxx",
        "outputId": "744f12b5-b8de-49ef-bc2b-41a51e6b28fa"
      },
      "outputs": [
        {
          "name": "stdout",
          "output_type": "stream",
          "text": [
            "[720, 1164, 76]\n",
            "433720\n",
            "446280\n"
          ]
        }
      ],
      "source": [
        "recipe_material = [[24, 0, 0], [0, 22, 0], [6, 9, 0], [20, 15, 6], [0, 8, 4]]\n",
        "pricing = [[200, 190, 175], [300, 275, 250], [240, 220, 205]]\n",
        "index = {'A': 0, 'B': 1, 'C': 2, 'D': 3, 'E': 4}\n",
        "\n",
        "total_cost = 0\n",
        "\n",
        "total_usage = [0, 0, 0]\n",
        "for key in dict:\n",
        "  key_index = index[key]\n",
        "  value = dict[key]\n",
        "  material = recipe_material[key_index]\n",
        "  total_usage[0] += value * material[0]\n",
        "  total_usage[1] += value * material[1]\n",
        "  total_usage[2] += value * material[2]\n",
        "\n",
        "print(total_usage)\n",
        "\n",
        "total_cost = 0\n",
        "for i in range(len(total_usage)):\n",
        "  if total_usage[i] <= 50:\n",
        "    total_cost += pricing[i][0] * total_usage[i]\n",
        "  elif total_usage[i] <= 500:\n",
        "    total_cost += pricing[i][1] * total_usage[i]\n",
        "  else:\n",
        "    total_cost += pricing[i][2] * total_usage[i]\n",
        "\n",
        "print(total_cost)\n",
        "\n",
        "print(22*40000 - total_cost)"
      ]
    }
  ],
  "metadata": {
    "colab": {
      "provenance": []
    },
    "kernelspec": {
      "display_name": "Python 3",
      "name": "python3"
    },
    "language_info": {
      "name": "python"
    }
  },
  "nbformat": 4,
  "nbformat_minor": 0
}
